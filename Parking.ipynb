{
 "cells": [
  {
   "cell_type": "markdown",
   "metadata": {},
   "source": [
    "## Park-UT: An app to help drivers find a spot to park at the University of Texas\n",
    "\n",
    "#### Brief description:\n",
    "This notebook is to serve as representative of the work done for the MIS 382N (69515) course project 1.\n",
    "\n",
    "Park-UT lets a user reserve a spot to park in a parking garage. The user may then park at the reserved spot.\n",
    "\n",
    "#### Assumptions:\n",
    "The app defines a venue as parking spots at garages. It also defines an event as a reservation made at that spot."
   ]
  },
  {
   "cell_type": "markdown",
   "metadata": {},
   "source": [
    "### Setup and utility functions"
   ]
  },
  {
   "cell_type": "code",
   "execution_count": 2,
   "metadata": {},
   "outputs": [],
   "source": [
    "import sqlite3\n",
    "import random\n",
    "from datetime import datetime, timedelta\n",
    "import re"
   ]
  },
  {
   "cell_type": "code",
   "execution_count": 3,
   "metadata": {},
   "outputs": [],
   "source": [
    "db=sqlite3.connect(\"./db/UTPark.db\")\n",
    "cursor = db.cursor()"
   ]
  },
  {
   "cell_type": "code",
   "execution_count": 4,
   "metadata": {},
   "outputs": [],
   "source": [
    "# turn this on if you want more details of what the functions are doing\n",
    "_debug = False"
   ]
  },
  {
   "cell_type": "code",
   "execution_count": 5,
   "metadata": {},
   "outputs": [],
   "source": [
    "def debug(output):\n",
    "    if _debug:\n",
    "        print('DEBUG: ' + output)\n",
    "\n",
    "def string_to_date(string):\n",
    "    date = datetime.fromisoformat(string)\n",
    "    debug('string_to_date - {} converted to {}'.format(string, date))\n",
    "    return date\n",
    "\n",
    "def row_to_user (row):\n",
    "    user = {}\n",
    "    user['id'] = row[0]\n",
    "    user['name'] = row[1]\n",
    "    user['email'] = row[2]\n",
    "    user['admin'] = bool(row[3])\n",
    "    debug('row_to_user - {} converted to {}'.format(row, user))\n",
    "    return user\n",
    "\n",
    "def row_to_spot (row):\n",
    "    spot = {}\n",
    "    spot['id'] = row[0]\n",
    "    spot['garageid'] = row[1]\n",
    "    spot['level'] = row[2]\n",
    "    spot['number'] = row[3]\n",
    "    debug('row_to_spot - {} converted to {}'.format(row, spot))\n",
    "    return spot\n",
    "\n",
    "def row_to_reservation(row):\n",
    "    res = {}\n",
    "    res['id'] = row[0]\n",
    "    res['spotid'] = row[1]\n",
    "    res['expiry'] = string_to_date(row[2])\n",
    "    debug('row_to_reservation - {} converted to {}'.format(row, res))\n",
    "    return res\n",
    "\n",
    "def row_to_occupancy(row):\n",
    "    occ = {}\n",
    "    occ['id'] = row[0]\n",
    "    occ['spotid'] = row[1]\n",
    "    occ['start'] = string_to_date(row[2])\n",
    "    debug('row_to_occupancy - {} converted to {}'.format(row, occ))\n",
    "    return occ\n",
    "\n",
    "def fetch_all():\n",
    "    all = cursor.fetchall()\n",
    "    for pl in all:\n",
    "        return(pl)\n"
   ]
  },
  {
   "cell_type": "code",
   "execution_count": 6,
   "metadata": {},
   "outputs": [],
   "source": [
    "def get_spots(garageid):\n",
    "    # utility method that returns a generator function that gets spots at a garage\n",
    "    cursor.execute('''SELECT * FROM spots WHERE GarageId={}'''.format(garageid))\n",
    "    return (row_to_spot(row) for row in cursor.fetchall())"
   ]
  },
  {
   "cell_type": "code",
   "execution_count": 17,
   "metadata": {},
   "outputs": [
    {
     "name": "stdout",
     "output_type": "stream",
     "text": [
      "None\n",
      "None\n"
     ]
    }
   ],
   "source": [
    "def get_reservation(spotid):\n",
    "    # utility method that serves as a mix of a reservation pruner and fetcher.\n",
    "    # more efficient to have everything that accesses a reservation go through here\n",
    "    # than implement a background process or something similar to clear expired reservations\n",
    "    cursor.execute('''SELECT * FROM reservations WHERE SpotId={}'''.format(spotid))\n",
    "    reservation = cursor.fetchone()\n",
    "    if reservation is None:\n",
    "        debug('get_reservation - No reservation found.')\n",
    "        return None\n",
    "    \n",
    "    reservation = row_to_reservation(reservation)\n",
    "    \n",
    "    if reservation['expiry'] < datetime.now():\n",
    "        cursor.execute('''DELETE FROM reservations WHERE SpotId={}'''.format(spotid))\n",
    "        debug('get_reservation - Expired reservation found. Deleted.')\n",
    "        db.commit()\n",
    "        return None\n",
    "    else:\n",
    "        debug('get_reservation - Returning {}'.format(reservation))\n",
    "        return reservation\n",
    "\n",
    "print(get_reservation(1))\n",
    "print(get_reservation(2))"
   ]
  },
  {
   "cell_type": "code",
   "execution_count": 21,
   "metadata": {},
   "outputs": [
    {
     "name": "stdout",
     "output_type": "stream",
     "text": [
      "None\n",
      "None\n"
     ]
    }
   ],
   "source": [
    "def get_occupancy(spotid):\n",
    "    # utility method that serves as a occupancy fetcher\n",
    "    cursor.execute('''SELECT * FROM occupancies WHERE SpotId={}'''.format(spotid))\n",
    "    occupancy = cursor.fetchone()\n",
    "    if occupancy is None:\n",
    "        debug('get_occupancy - No occupancy found.')\n",
    "        return None\n",
    "    else:\n",
    "        occupancy = row_to_occupancy(occupancy)\n",
    "        debug('get_occupancy - Returning {}'.format(occupancy))\n",
    "        return occupancy\n",
    "    \n",
    "print(get_occupancy(22))\n",
    "print(get_occupancy(23))"
   ]
  },
  {
   "cell_type": "code",
   "execution_count": 7,
   "metadata": {},
   "outputs": [
    {
     "name": "stdout",
     "output_type": "stream",
     "text": [
      "non_admin:  {'id': 2, 'name': 'Catherine', 'email': 'cathy.morgan@utexas.edu', 'admin': False}\n",
      "admin:  {'id': 1, 'name': 'Vrinda', 'email': 'vrinda.sha@utexas.edu', 'admin': True}\n"
     ]
    }
   ],
   "source": [
    "admin = None\n",
    "non_admin = None\n",
    "cursor.execute('''SELECT * FROM users''')\n",
    "for pl in cursor.fetchall():\n",
    "    debug(pl)\n",
    "    if non_admin is None and pl[3] is 0:\n",
    "        non_admin = row_to_user(pl)\n",
    "    elif admin is None and pl[3] is 1:\n",
    "        admin = row_to_user(pl)\n",
    "\n",
    "print('non_admin: ', non_admin)\n",
    "print('admin: ', admin)"
   ]
  },
  {
   "cell_type": "markdown",
   "metadata": {},
   "source": [
    "###  1. Add a new user (admin only)"
   ]
  },
  {
   "cell_type": "code",
   "execution_count": 8,
   "metadata": {},
   "outputs": [
    {
     "name": "stdout",
     "output_type": "stream",
     "text": [
      "Insufficient access.\n",
      "UNIQUE constraint failed: users.Email\n"
     ]
    }
   ],
   "source": [
    "def add_user(user, name, email, is_admin):\n",
    "    # add new user\n",
    "    if not (user['admin']):\n",
    "        print('Insufficient access.')\n",
    "        return\n",
    "    \n",
    "    try:\n",
    "        insertsql = '''INSERT INTO users (Name,Email,Admin) VALUES ('{}', '{}', {})'''\n",
    "        cursor.execute(insertsql.format(name, email, 1 if is_admin is True else False))\n",
    "        print('Successfully added a user.')\n",
    "        db.commit()\n",
    "    except Exception as e:\n",
    "        print(e)\n",
    "\n",
    "add_user(non_admin, 'Zara', 'zara@gmail.com', False)\n",
    "add_user(admin, 'Zara', 'zara@gmail.com', False)"
   ]
  },
  {
   "cell_type": "markdown",
   "metadata": {},
   "source": [
    "###  2. Add a new venue (admin only)\n",
    "\n",
    "We interpret a venue to be a garage or a spot."
   ]
  },
  {
   "cell_type": "code",
   "execution_count": 9,
   "metadata": {
    "scrolled": true
   },
   "outputs": [
    {
     "name": "stdout",
     "output_type": "stream",
     "text": [
      "Insufficient access.\n",
      "\n",
      "Brazos Garages (BRG) --> This Garage already exists!\n",
      "\n",
      "Existing Garages:\n",
      "\n",
      "Brazos Garages (BRG)\n",
      "Conference Center Garage (CCG)\n",
      "East Campus Garage (ECG)\n",
      "Health Center Garage (HCG)\n",
      "Manor Garage (MAG)\n",
      "Trinity Garage (TRG)\n",
      "Speedway Garage (SWG)\n",
      "San Antonio Garage (SAG)\n",
      "Guadalupe Garage (GUG)\n",
      "Rowling Hall Garage (RHG)\n"
     ]
    }
   ],
   "source": [
    "def add_garages(user, name, address):\n",
    "    if not (user['admin']):\n",
    "        print('Insufficient access.')\n",
    "        return\n",
    "    \n",
    "    try:\n",
    "        #Checking if the garage already exists\n",
    "        #and avoiding redundant entries to garages table\n",
    "        cursor.execute('''Select name from garages''')\n",
    "        existing_garages = cursor.fetchall()\n",
    "        \n",
    "        current_garage = name,\n",
    "        print()\n",
    "        if current_garage in existing_garages:\n",
    "            print(current_garage[0],'--> This Garage already exists!')\n",
    "            cursor.execute('''SELECT Name FROM garages''')\n",
    "            print()\n",
    "            print('Existing Garages:')\n",
    "            print()\n",
    "            all=cursor.fetchall()\n",
    "            for pl in all:\n",
    "                print(pl[0])\n",
    "            return\n",
    "        else:    \n",
    "            insertsql = '''INSERT INTO garages (Name, Address) VALUES ('{}', '{}')'''\n",
    "            cursor.execute(insertsql.format(name, address))\n",
    "            print('Successfully added a garage.')\n",
    "        db.commit()\n",
    "    except Exception as e:\n",
    "        print(e)\n",
    "\n",
    "add_garages(non_admin, 'Brazos Garages (BRG)', '210 E. MLK Blvd.')\n",
    "add_garages(admin, 'Brazos Garages (BRG)', '210 E. MLK Blvd.')"
   ]
  },
  {
   "cell_type": "code",
   "execution_count": 10,
   "metadata": {},
   "outputs": [
    {
     "name": "stdout",
     "output_type": "stream",
     "text": [
      "Insufficient access.\n",
      "\n",
      "Successfully added a spot.\n"
     ]
    }
   ],
   "source": [
    "def add_spots(user, garage_id, level):\n",
    "    if not (user['admin']):\n",
    "        print('Insufficient access.')\n",
    "        print()\n",
    "        return\n",
    "    \n",
    "    try:\n",
    "        #Checking if the garage exists\n",
    "        #Providing the list of available garages to add a spot\n",
    "        cursor.execute('''Select count(*) from garages where Id={}'''.format(garage_id))\n",
    "        count = cursor.fetchone()\n",
    "        if count[0] is 0:\n",
    "            print('You are trying to add a spot to a Garage that does not exist!')\n",
    "            cursor.execute('''SELECT Id FROM garages''')\n",
    "            all = cursor.fetchall()\n",
    "            print()\n",
    "            print('Choose a different GarageId from below :-')\n",
    "            for pl in all:\n",
    "                \n",
    "                print(pl[0])\n",
    "            \n",
    "        else:\n",
    "            #Adding new spot only if the garage exists\n",
    "            insertsql = '''INSERT INTO spots (GarageId, Level, Number) VALUES ({}, {}, {})'''\n",
    "            cursor.execute(insertsql.format(garage_id, level, random.randint(1,10000)))\n",
    "            print('Successfully added a spot.')\n",
    "\n",
    "        db.commit()\n",
    "    except Exception as e:\n",
    "        print(e)\n",
    "\n",
    "add_spots(non_admin, 22, 1)\n",
    "add_spots(admin, 22, 1)"
   ]
  },
  {
   "cell_type": "markdown",
   "metadata": {},
   "source": [
    "###  3. Start an event (user or admin on behalf of a user)\n",
    "\n",
    "We interpret starting an event to be making a reservation."
   ]
  },
  {
   "cell_type": "code",
   "execution_count": 54,
   "metadata": {},
   "outputs": [
    {
     "name": "stdout",
     "output_type": "stream",
     "text": [
      "67  - Spot does not exist!\n",
      "Insufficient access to reserve on behalf of another user.\n",
      "Successfully reserved the spot till 2019-07-28T18:48\n"
     ]
    }
   ],
   "source": [
    "def make_reservation(user, spotid, onbehalfof=None):\n",
    "    # this reserves a spot for 10 minutes\n",
    "    if onbehalfof is not None:\n",
    "        if not (user['admin']):\n",
    "            print('Insufficient access to reserve on behalf of another user.')\n",
    "            return\n",
    "        user = onbehalfof\n",
    "    \n",
    "    try:      \n",
    "        cursor.execute('''SELECT count(*) FROM spots WHERE Id={}'''.format(spotid))\n",
    "        count = cursor.fetchone()\n",
    "        \n",
    "        if count[0] is 0:\n",
    "            print(spotid,' - Spot does not exist!')\n",
    "        else:\n",
    "            \n",
    "            #first, check if the spot is already occupied\n",
    "            cursor.execute('''SELECT count(*) FROM occupancies WHERE SpotId={}'''.format(spotid))\n",
    "            is_occ = cursor.fetchone()\n",
    "            if is_occ[0] != 0:\n",
    "                print('This spot is currently occupied.')\n",
    "                return\n",
    "\n",
    "            #second, check if the spot is already reserved\n",
    "            existing = get_reservation(spotid)\n",
    "            if existing is not None:\n",
    "                print('This spot is already reserved.')\n",
    "                return\n",
    "\n",
    "            #third, make the reservation\n",
    "            expire = (datetime.now() + timedelta(minutes=10)).isoformat(timespec='minutes')\n",
    "            insertsql = '''INSERT INTO reservations (SpotId, Expiry) VALUES ({}, '{}')'''\n",
    "            cursor.execute(insertsql.format(spotid, expire))\n",
    "\n",
    "            print('Successfully reserved the spot till', expire)\n",
    "\n",
    "        db.commit()\n",
    "    except Exception as e:\n",
    "        print(e)\n",
    "\n",
    "# should pass\n",
    "make_reservation(non_admin, 67)\n",
    "\n",
    "# should fail because a non-admin cannot add reserve on behalf of another user\n",
    "make_reservation(non_admin, 28, non_admin)\n",
    "\n",
    "# should fail because although the admin can do this, a reservation would already exist\n",
    "# see function 9 to kill the reservation\n",
    "make_reservation(admin, 31, non_admin)"
   ]
  },
  {
   "cell_type": "markdown",
   "metadata": {},
   "source": [
    "### 4. Display timeslot availability at a venue\n",
    "\n",
    "We interpret this to be \"Display if a spot is available at a garage\"."
   ]
  },
  {
   "cell_type": "code",
   "execution_count": 39,
   "metadata": {},
   "outputs": [
    {
     "name": "stdout",
     "output_type": "stream",
     "text": [
      "False\n",
      "False\n"
     ]
    }
   ],
   "source": [
    "def is_spot_available(spotid):\n",
    "    # returns if a spot is available at a garage\n",
    "    reservation = get_reservation(spotid)\n",
    "    if reservation is None:\n",
    "        occupancy = get_occupancy(spotid)\n",
    "        if occupancy is None:\n",
    "            debug('This spot is available.')\n",
    "            return True\n",
    "    \n",
    "    debug('This spot is unavailable.')\n",
    "    return False\n",
    "\n",
    "print(is_spot_available(27))\n",
    "print(is_spot_available(29))"
   ]
  },
  {
   "cell_type": "markdown",
   "metadata": {},
   "source": [
    "### 5. Display all venues where a particular timeslot is available\n",
    "\n",
    "Our system discards reservations that have expired; all reservations that exist are current.\n",
    "Therefore, we interpret this to be \"Display all slots in a garage that are available\"."
   ]
  },
  {
   "cell_type": "code",
   "execution_count": 40,
   "metadata": {},
   "outputs": [
    {
     "name": "stdout",
     "output_type": "stream",
     "text": [
      "[6577, 9443, 4205, 3860, 7224]\n",
      "[3935, 5265]\n"
     ]
    }
   ],
   "source": [
    "def get_available_spots(garageid):\n",
    "    # returns list of all slots in a garage that are available\n",
    "    cursor.execute('''SELECT * FROM spots WHERE garageid={}'''.format(garageid))\n",
    "    return [spot['number'] for spot in (row_to_spot(row) for row in cursor.fetchall()) if is_spot_available(spot['id'])]\n",
    "\n",
    "print(get_available_spots(22))\n",
    "print(get_available_spots(23))"
   ]
  },
  {
   "cell_type": "markdown",
   "metadata": {},
   "source": [
    "### 6. List events at a venue given date/time\n",
    "\n",
    "We have to interpret this to be \"List all reservations at a garage\""
   ]
  },
  {
   "cell_type": "code",
   "execution_count": 41,
   "metadata": {},
   "outputs": [
    {
     "data": {
      "text/plain": [
       "[]"
      ]
     },
     "execution_count": 41,
     "metadata": {},
     "output_type": "execute_result"
    }
   ],
   "source": [
    "def get_reserved_spots(garageid):\n",
    "    return [res for res in (get_reservation(spot['id']) for spot in get_spots(garageid)) if res is not None]\n",
    "    \n",
    "get_reserved_spots(22)\n",
    "get_reserved_spots(23)"
   ]
  },
  {
   "cell_type": "markdown",
   "metadata": {},
   "source": [
    "###  7. User joins an event\n",
    "\n",
    "We interpret this to be \"User occupies a reserved spot\".\n",
    "\n",
    "Our business rules here are that a user cannot occupy a spot without a prior reservation and that a user cannot occupy a spot that is already occupied."
   ]
  },
  {
   "cell_type": "code",
   "execution_count": 45,
   "metadata": {},
   "outputs": [
    {
     "name": "stdout",
     "output_type": "stream",
     "text": [
      "This spot is already occupied.\n",
      "This spot is already occupied.\n"
     ]
    }
   ],
   "source": [
    "def occupy_reservation(spotid):\n",
    "    # user occupies a reserved spot\n",
    "    \n",
    "    try:\n",
    "        cursor.execute('''SELECT count(*) FROM spots WHERE Id={}'''.format(spotid))\n",
    "        count = cursor.fetchone()\n",
    "        \n",
    "        if count[0] is 0:\n",
    "            print(spotid,' - Spot does not exist!')\n",
    "        else:\n",
    "            #first, check if spot is occupied\n",
    "            cursor.execute('''SELECT * FROM occupancies WHERE SpotId={}'''.format(spotid))\n",
    "            existingoccupancy = cursor.fetchone()\n",
    "            if existingoccupancy is not None:\n",
    "                print('This spot is already occupied.')\n",
    "                return\n",
    "\n",
    "            #second, check if the reservation exists\n",
    "            reservation = get_reservation(spotid)\n",
    "            if reservation is None:\n",
    "                print('No reservation exists for this spot.')\n",
    "                return\n",
    "\n",
    "            #third, make occupancy\n",
    "            insertsql = '''INSERT INTO occupancies (SpotId, StartTime) VALUES ({}, '{}')'''\n",
    "            cursor.execute(insertsql.format(spotid, datetime.now()))\n",
    "            print('Awesome! We are glad to have you here!')\n",
    "\n",
    "            #fourth, delete reservation\n",
    "            deleteres = '''DELETE FROM reservations WHERE SpotId={}'''.format(spotid)\n",
    "            cursor.execute(deleteres)\n",
    "\n",
    "            db.commit()\n",
    "        \n",
    "    except Exception as e:\n",
    "        db.rollback()\n",
    "        print(e)\n",
    "\n",
    "occupy_reservation(27)\n",
    "occupy_reservation(29)"
   ]
  },
  {
   "cell_type": "code",
   "execution_count": 46,
   "metadata": {},
   "outputs": [
    {
     "name": "stdout",
     "output_type": "stream",
     "text": [
      "The spot is no longer occupied.\n",
      "The spot is no longer occupied.\n"
     ]
    }
   ],
   "source": [
    "def end_occupancy(spotid):\n",
    "    cursor.execute('''SELECT * FROM occupancies where SpotId={}'''.format(spotid))\n",
    "    occupancy = cursor.fetchone()\n",
    "    if occupancy is None:\n",
    "        print('The spot is not occupied.')\n",
    "    else:\n",
    "        cursor.execute('''DELETE FROM occupancies where SpotId={}'''.format(spotid))\n",
    "        print('The spot is no longer occupied.')\n",
    "        db.commit()\n",
    "\n",
    "end_occupancy(27)\n",
    "end_occupancy(29)"
   ]
  },
  {
   "cell_type": "markdown",
   "metadata": {},
   "source": [
    "###  9. Remove an event (admin only)\n",
    "\n",
    "We interpret an event here to be a spot reservation."
   ]
  },
  {
   "cell_type": "code",
   "execution_count": 49,
   "metadata": {},
   "outputs": [
    {
     "name": "stdout",
     "output_type": "stream",
     "text": [
      "The spot is not reserved.\n",
      "Insufficient access to remove a reservation.\n"
     ]
    }
   ],
   "source": [
    "def remove_reservation(user, spotid):\n",
    "    if not (user['admin']):\n",
    "        print('Insufficient access to remove a reservation.')\n",
    "        return\n",
    "    \n",
    "    if get_reservation(spotid) is None:\n",
    "        print('The spot is not reserved.')\n",
    "    else:\n",
    "        cursor.execute('''DELETE FROM reservations where SpotId={}'''.format(spotid))\n",
    "        print('The spot is no longer reserved.')\n",
    "        db.commit()\n",
    "\n",
    "remove_reservation(admin, 27)\n",
    "remove_reservation(non_admin, 29)"
   ]
  },
  {
   "cell_type": "code",
   "execution_count": 49,
   "metadata": {},
   "outputs": [],
   "source": [
    "db.close()"
   ]
  },
  {
   "cell_type": "code",
   "execution_count": null,
   "metadata": {},
   "outputs": [],
   "source": []
  }
 ],
 "metadata": {
  "kernelspec": {
   "display_name": "Python 3",
   "language": "python",
   "name": "python3"
  },
  "language_info": {
   "codemirror_mode": {
    "name": "ipython",
    "version": 3
   },
   "file_extension": ".py",
   "mimetype": "text/x-python",
   "name": "python",
   "nbconvert_exporter": "python",
   "pygments_lexer": "ipython3",
   "version": "3.7.3"
  }
 },
 "nbformat": 4,
 "nbformat_minor": 2
}
