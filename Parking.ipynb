{
 "cells": [
  {
   "cell_type": "markdown",
   "metadata": {},
   "source": [
    "### An app to help drivers find a spot to park at UT"
   ]
  },
  {
   "cell_type": "code",
   "execution_count": 1,
   "metadata": {},
   "outputs": [],
   "source": [
    "import sqlite3\n",
    "from datetime import datetime, timedelta\n",
    "import random"
   ]
  },
  {
   "cell_type": "code",
   "execution_count": 2,
   "metadata": {},
   "outputs": [],
   "source": [
    "# Connect to the chinook database\n",
    "db=sqlite3.connect(\"/Users/abhil/repo/park-ut/db/UTPark.db\")\n",
    "#db=sqlite3.connect(\"/Users/Vrinda Sharma/Documents/APAD/Assignments/Project-1/park-ut/db/UTPark.db\")"
   ]
  },
  {
   "cell_type": "code",
   "execution_count": 3,
   "metadata": {},
   "outputs": [
    {
     "name": "stdout",
     "output_type": "stream",
     "text": [
      "(1, 'Vrinda', 'vrinda.sha@utexas.edu', 1)\n",
      "(2, 'Catherine', 'cathy.morgan@utexas.edu', 0)\n",
      "(3, 'Mac', 'macmiller@gmail.com', 0)\n",
      "(4, 'Katie', 'Katie@gmail.com', 0)\n",
      "(5, 'Abhi', 'Abhi@gmail.com', 0)\n",
      "non_admin:  {'id': 2, 'name': 'Catherine', 'email': 'cathy.morgan@utexas.edu', 'admin': False}\n",
      "admin:  {'id': 1, 'name': 'Vrinda', 'email': 'vrinda.sha@utexas.edu', 'admin': True}\n"
     ]
    }
   ],
   "source": [
    "cursor = db.cursor()\n",
    "\n",
    "def row_to_user (row):\n",
    "    user = {}\n",
    "    user['id'] = row[0]\n",
    "    user['name'] = row[1]\n",
    "    user['email'] = row[2]\n",
    "    user['admin'] = bool(row[3])\n",
    "    return user\n",
    "\n",
    "def fetch_all():\n",
    "    all = cursor.fetchall()\n",
    "    for pl in all:\n",
    "        print(pl)\n",
    "\n",
    "def fetch_users():\n",
    "    admin = None\n",
    "    non_admin = None\n",
    "    cursor.execute('''SELECT * FROM users''')\n",
    "    all = cursor.fetchall()\n",
    "    for pl in all:\n",
    "        print(pl)\n",
    "        if non_admin is None and pl[3] is 0:\n",
    "            non_admin = row_to_user(pl)\n",
    "        elif admin is None and pl[3] is 1:\n",
    "            admin = row_to_user(pl)\n",
    "            \n",
    "    return (non_admin, admin)\n",
    "            \n",
    "(non_admin, admin) = fetch_users()\n",
    "\n",
    "print('non_admin: ', non_admin)\n",
    "print('admin: ', admin)\n"
   ]
  },
  {
   "cell_type": "code",
   "execution_count": 5,
   "metadata": {},
   "outputs": [
    {
     "name": "stdout",
     "output_type": "stream",
     "text": [
      "Insufficient access.\n",
      "UNIQUE constraint failed: users.Email\n"
     ]
    }
   ],
   "source": [
    "def add_user(user, name, email, is_admin):\n",
    "    # add new user\n",
    "    if not (user['admin']):\n",
    "        print('Insufficient access.')\n",
    "        return\n",
    "    \n",
    "    try:\n",
    "        insertsql = '''INSERT INTO users (Name,Email,Admin) VALUES ('{}', '{}', {})'''\n",
    "        cursor.execute(insertsql.format(name, email, 1 if is_admin is True else False))\n",
    "        db.commit()\n",
    "        print('Successfully added a user.')\n",
    "    except Exception as e:\n",
    "        print(e)\n",
    "\n",
    "add_user(non_admin, 'Abhi', 'Abhi@gmail.com', False)\n",
    "add_user(admin, 'Abhi', 'Abhi@gmail.com', False)"
   ]
  },
  {
   "cell_type": "code",
   "execution_count": 6,
   "metadata": {},
   "outputs": [
    {
     "name": "stdout",
     "output_type": "stream",
     "text": [
      "Insufficient access.\n"
     ]
    }
   ],
   "source": [
    "def add_garages(user, name, address):\n",
    "    if not (user['admin']):\n",
    "        print('Insufficient access.')\n",
    "        return\n",
    "    \n",
    "    try:\n",
    "        insertsql = '''INSERT INTO garages (Name, Address) VALUES ('{}', '{}')'''\n",
    "        cursor.execute(insertsql.format(name, address))\n",
    "        db.commit()\n",
    "        print('Successfully added a garage.')\n",
    "    except Exception as e:\n",
    "        print(e)\n",
    "\n",
    "add_garages(non_admin, 'Guadulupe', 'Guadulupe street')\n",
    "add_garages(admin, 'Guadulupe', 'Guadulupe street')"
   ]
  },
  {
   "cell_type": "code",
   "execution_count": 11,
   "metadata": {},
   "outputs": [
    {
     "name": "stdout",
     "output_type": "stream",
     "text": [
      "Insufficient access.\n"
     ]
    }
   ],
   "source": [
    "def add_spots(user, garage_id, level):\n",
    "    if not (user['admin']):\n",
    "        print('Insufficient access.')\n",
    "        return\n",
    "    \n",
    "    try:\n",
    "        insertsql = '''INSERT INTO spots (GarageId, Level, Number) VALUES ({}, {}, {})'''\n",
    "        cursor.execute(insertsql.format(garage_id, level, random.randint(1,10000)))\n",
    "        db.commit()\n",
    "        print('Successfully added a spot.')\n",
    "    except Exception as e:\n",
    "        print(e)\n",
    "\n",
    "add_spots(non_admin, 1, 1)\n",
    "add_spots(admin, 1, 1)"
   ]
  },
  {
   "cell_type": "code",
   "execution_count": 7,
   "metadata": {},
   "outputs": [
    {
     "name": "stdout",
     "output_type": "stream",
     "text": [
      "Successfully reserved.\n",
      "Insufficient access to reserve on behalf of another user.\n",
      "Reservation already exists.\n"
     ]
    }
   ],
   "source": [
    "def startevent(user, spotid, onbehalfof=None):\n",
    "    # this reserves a spot for parking for 10 minutes\n",
    "    if onbehalfof is not None:\n",
    "        if not (user['admin']):\n",
    "            print('Insufficient access to reserve on behalf of another user.')\n",
    "            return\n",
    "        user = onbehalfof\n",
    "    \n",
    "    now = datetime.now()\n",
    "    \n",
    "    try:\n",
    "        cursor.execute('''SELECT Expiry FROM reservations WHERE SpotId={}'''.format(spotid))\n",
    "        lastexpiry = max(datetime.fromisoformat(row[0]) for row in cursor.fetchall())\n",
    "\n",
    "        if (lastexpiry > now):\n",
    "            print('Reservation already exists.')\n",
    "            return\n",
    "\n",
    "        expire = (datetime.now() + timedelta(minutes=10)).isoformat(timespec='minutes')\n",
    "        insertsql = '''INSERT INTO reservations (SpotId, Expiry) VALUES ({}, '{}')'''\n",
    "        cursor.execute(insertsql.format(spotid, expire))\n",
    "        db.commit()\n",
    "        print('Successfully reserved.')\n",
    "    except Exception as e:\n",
    "        print(e)\n",
    "    \n",
    "startevent(non_admin, 1)\n",
    "startevent(non_admin, 1, non_admin)\n",
    "startevent(admin, 1, non_admin)"
   ]
  },
  {
   "cell_type": "code",
   "execution_count": 17,
   "metadata": {
    "scrolled": true
   },
   "outputs": [
    {
     "name": "stdout",
     "output_type": "stream",
     "text": [
      "(3,)\n"
     ]
    }
   ],
   "source": [
    "cursor.execute(\"\"\"Select count(*) from garages\"\"\")\n",
    "fetch_all()"
   ]
  },
  {
   "cell_type": "code",
   "execution_count": 18,
   "metadata": {},
   "outputs": [
    {
     "name": "stdout",
     "output_type": "stream",
     "text": [
      "(3,)\n"
     ]
    }
   ],
   "source": [
    "cursor.execute(\"\"\"Select count(*) from spots\"\"\")\n",
    "fetch_all()"
   ]
  },
  {
   "cell_type": "code",
   "execution_count": 83,
   "metadata": {},
   "outputs": [],
   "source": [
    "db.close()"
   ]
  },
  {
   "cell_type": "code",
   "execution_count": null,
   "metadata": {},
   "outputs": [],
   "source": []
  }
 ],
 "metadata": {
  "kernelspec": {
   "display_name": "Python 3",
   "language": "python",
   "name": "python3"
  },
  "language_info": {
   "codemirror_mode": {
    "name": "ipython",
    "version": 3
   },
   "file_extension": ".py",
   "mimetype": "text/x-python",
   "name": "python",
   "nbconvert_exporter": "python",
   "pygments_lexer": "ipython3",
   "version": "3.7.4"
  }
 },
 "nbformat": 4,
 "nbformat_minor": 2
}
