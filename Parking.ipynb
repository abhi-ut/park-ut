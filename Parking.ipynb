{
 "cells": [
  {
   "cell_type": "markdown",
   "metadata": {},
   "source": [
    "### An app to help drivers find a spot to park at UT"
   ]
  },
  {
   "cell_type": "code",
   "execution_count": 16,
   "metadata": {},
   "outputs": [],
   "source": [
    "import sqlite3\n",
    "import random\n",
    "from datetime import datetime, timedelta"
   ]
  },
  {
   "cell_type": "code",
   "execution_count": 64,
   "metadata": {},
   "outputs": [],
   "source": [
    "#db=sqlite3.connect(\"/Users/abhil/repo/park-ut/db/UTPark.db\")\n",
    "db=sqlite3.connect(\"./db/UTPark.db\")\n",
    "\n",
    "cursor = db.cursor()"
   ]
  },
  {
   "cell_type": "code",
   "execution_count": 99,
   "metadata": {},
   "outputs": [
    {
     "name": "stdout",
     "output_type": "stream",
     "text": [
      "(1, 'Vrinda', 'vrinda.sha@utexas.edu', 1)\n",
      "# row_to_user - (1, 'Vrinda', 'vrinda.sha@utexas.edu', 1) converted to {'id': 1, 'name': 'Vrinda', 'email': 'vrinda.sha@utexas.edu', 'admin': True}\n",
      "(2, 'Catherine', 'cathy.morgan@utexas.edu', 0)\n",
      "# row_to_user - (2, 'Catherine', 'cathy.morgan@utexas.edu', 0) converted to {'id': 2, 'name': 'Catherine', 'email': 'cathy.morgan@utexas.edu', 'admin': False}\n",
      "(3, 'Mac', 'macmiller@gmail.com', 0)\n",
      "(4, 'Katie', 'Katie@gmail.com', 0)\n",
      "(5, 'Abhi', 'Abhi@gmail.com', 0)\n",
      "non_admin:  {'id': 2, 'name': 'Catherine', 'email': 'cathy.morgan@utexas.edu', 'admin': False}\n",
      "admin:  {'id': 1, 'name': 'Vrinda', 'email': 'vrinda.sha@utexas.edu', 'admin': True}\n"
     ]
    }
   ],
   "source": [
    "def string_to_date(string):\n",
    "    date = datetime.fromisoformat(string)\n",
    "    print('# string_to_date - {} converted to {}'.format(string, date))\n",
    "    return date\n",
    "\n",
    "def row_to_user (row):\n",
    "    user = {}\n",
    "    user['id'] = row[0]\n",
    "    user['name'] = row[1]\n",
    "    user['email'] = row[2]\n",
    "    user['admin'] = bool(row[3])\n",
    "    print('# row_to_user - {} converted to {}'.format(row, user))\n",
    "    return user\n",
    "\n",
    "def row_to_reservation(row):\n",
    "    res = {}\n",
    "    res['id'] = row[0]\n",
    "    res['spotid'] = row[1]\n",
    "    res['expiry'] = string_to_date(row[2])\n",
    "    return res\n",
    "\n",
    "def fetch_all():\n",
    "    all = cursor.fetchall()\n",
    "    for pl in all:\n",
    "        return(pl)\n",
    "\n",
    "def fetch_users():\n",
    "    admin = None\n",
    "    non_admin = None\n",
    "    cursor.execute('''SELECT * FROM users''')\n",
    "    all = cursor.fetchall()\n",
    "    for pl in all:\n",
    "        print(pl)\n",
    "        if non_admin is None and pl[3] is 0:\n",
    "            non_admin = row_to_user(pl)\n",
    "        elif admin is None and pl[3] is 1:\n",
    "            admin = row_to_user(pl)\n",
    "            \n",
    "    return (non_admin, admin)\n",
    "            \n",
    "(non_admin, admin) = fetch_users()\n",
    "\n",
    "print('non_admin: ', non_admin)\n",
    "print('admin: ', admin)\n"
   ]
  },
  {
   "cell_type": "code",
   "execution_count": 19,
   "metadata": {},
   "outputs": [
    {
     "name": "stdout",
     "output_type": "stream",
     "text": [
      "Insufficient access.\n",
      "UNIQUE constraint failed: users.Email\n"
     ]
    }
   ],
   "source": [
    "def add_user(user, name, email, is_admin):\n",
    "    # add new user\n",
    "    if not (user['admin']):\n",
    "        print('Insufficient access.')\n",
    "        return\n",
    "    \n",
    "    try:\n",
    "        insertsql = '''INSERT INTO users (Name,Email,Admin) VALUES ('{}', '{}', {})'''\n",
    "        cursor.execute(insertsql.format(name, email, 1 if is_admin is True else False))\n",
    "        db.commit()\n",
    "        print('Successfully added a user.')\n",
    "    except Exception as e:\n",
    "        print(e)\n",
    "\n",
    "add_user(non_admin, 'Abhi', 'Abhi@gmail.com', False)\n",
    "add_user(admin, 'Abhi', 'Abhi@gmail.com', False)"
   ]
  },
  {
   "cell_type": "code",
   "execution_count": 20,
   "metadata": {},
   "outputs": [
    {
     "name": "stdout",
     "output_type": "stream",
     "text": [
      "Insufficient access.\n",
      "Successfully added a garage.\n"
     ]
    }
   ],
   "source": [
    "def add_garages(user, name, address):\n",
    "    if not (user['admin']):\n",
    "        print('Insufficient access.')\n",
    "        return\n",
    "    \n",
    "    try:\n",
    "        insertsql = '''INSERT INTO garages (Name, Address) VALUES ('{}', '{}')'''\n",
    "        cursor.execute(insertsql.format(name, address))\n",
    "        db.commit()\n",
    "        print('Successfully added a garage.')\n",
    "    except Exception as e:\n",
    "        print(e)\n",
    "\n",
    "add_garages(non_admin, 'Guadulupe', 'Guadulupe street')\n",
    "add_garages(admin, 'Guadulupe', 'Guadulupe street')"
   ]
  },
  {
   "cell_type": "code",
   "execution_count": 21,
   "metadata": {},
   "outputs": [
    {
     "name": "stdout",
     "output_type": "stream",
     "text": [
      "Insufficient access.\n",
      "Successfully added a spot.\n"
     ]
    }
   ],
   "source": [
    "def add_spots(user, garage_id, level):\n",
    "    if not (user['admin']):\n",
    "        print('Insufficient access.')\n",
    "        return\n",
    "    \n",
    "    try:\n",
    "        insertsql = '''INSERT INTO spots (GarageId, Level, Number) VALUES ({}, {}, {})'''\n",
    "        cursor.execute(insertsql.format(garage_id, level, random.randint(1,10000)))\n",
    "        db.commit()\n",
    "        print('Successfully added a spot.')\n",
    "    except Exception as e:\n",
    "        print(e)\n",
    "\n",
    "add_spots(non_admin, 1, 1)\n",
    "add_spots(admin, 1, 1)"
   ]
  },
  {
   "cell_type": "code",
   "execution_count": 107,
   "metadata": {},
   "outputs": [
    {
     "name": "stdout",
     "output_type": "stream",
     "text": [
      "# get_reservation - No reservation found.\n",
      "# get_reservation - No reservation found.\n"
     ]
    }
   ],
   "source": [
    "def get_reservation(spotid):\n",
    "    cursor.execute('''SELECT * FROM reservations WHERE SpotId={}'''.format(spotid))\n",
    "    reservation = cursor.fetchone()\n",
    "    if reservation is None:\n",
    "        print('# get_reservation - No reservation found.')\n",
    "        return None\n",
    "    \n",
    "    reservation = row_to_reservation(reservation)\n",
    "    now = datetime.now()\n",
    "    \n",
    "    if reservation['expiry'] < now:\n",
    "        cursor.execute('''DELETE FROM reservations WHERE SpotId={}'''.format(spotid))\n",
    "        print('# get_reservation - Expired reservation found. Deleted.')\n",
    "        db.commit()\n",
    "        return None\n",
    "    else:\n",
    "        print('# get_reservation - Returning {}'.format(reservation))\n",
    "        return reservation\n",
    "    \n",
    "get_reservation(1)\n",
    "get_reservation(2)"
   ]
  },
  {
   "cell_type": "code",
   "execution_count": 111,
   "metadata": {},
   "outputs": [
    {
     "name": "stdout",
     "output_type": "stream",
     "text": [
      "Successfully reserved till -  2019-07-27T12:57\n",
      "Insufficient access to reserve on behalf of another user.\n",
      "Reservation already exists.\n"
     ]
    }
   ],
   "source": [
    "def make_reservation(user, spotid, onbehalfof=None):\n",
    "    # this reserves a spot for parking for 10 minutes\n",
    "    if onbehalfof is not None:\n",
    "        if not (user['admin']):\n",
    "            print('Insufficient access to reserve on behalf of another user.')\n",
    "            return\n",
    "        user = onbehalfof\n",
    "    \n",
    "    now = datetime.now()\n",
    "    \n",
    "    try:\n",
    "        cursor.execute('''Select count(*) from occupancies where SpotId={}'''.format(spotid))\n",
    "        is_Occ = cursor.fetchone()\n",
    "        if is_Occ[0]!=0:\n",
    "            print('Oops! This spot is taken! Try another!')\n",
    "            return\n",
    "            \n",
    "        existing = get_reservation(spotid)\n",
    "        if existing is not None:\n",
    "            return\n",
    "\n",
    "        expire = (datetime.now() + timedelta(minutes=10)).isoformat(timespec='minutes')\n",
    "        insertsql = '''INSERT INTO reservations (SpotId, Expiry) VALUES ({}, '{}')'''\n",
    "        cursor.execute(insertsql.format(spotid, expire))\n",
    "        \n",
    "        print('Successfully reserved till ', expire)\n",
    "        \n",
    "        db.commit()\n",
    "    except Exception as e:\n",
    "        db.rollback()\n",
    "        print(e)\n",
    "    \n",
    "startevent(non_admin, 2)\n",
    "startevent(non_admin, 2, non_admin)\n",
    "startevent(admin, 2, non_admin)"
   ]
  },
  {
   "cell_type": "code",
   "execution_count": 112,
   "metadata": {},
   "outputs": [
    {
     "name": "stdout",
     "output_type": "stream",
     "text": [
      "# string_to_date - 2019-07-27T12:57 converted to 2019-07-27 12:57:00\n",
      "# get_reservation - Returning {'id': 55, 'spotid': 2, 'expiry': datetime.datetime(2019, 7, 27, 12, 57)}\n",
      "Awesome! We are glad to have you here!\n"
     ]
    }
   ],
   "source": [
    "def occupancies(spotid):\n",
    "    \n",
    "    occStartTime = datetime.now()\n",
    "    \n",
    "    try:\n",
    "        #first, check if spot is occupied\n",
    "        cursor.execute('''Select * from occupancies where SpotId={}'''.format(spotid))\n",
    "        existingoccupancy = cursor.fetchone()\n",
    "        if existingoccupancy is not None:\n",
    "            print('Spot is already occupied.')\n",
    "            return\n",
    "        \n",
    "        #second, find the reservation\n",
    "        reservation = get_reservation(spotid)\n",
    "        if reservation is None:\n",
    "            return\n",
    "        \n",
    "        #third, make occupancy\n",
    "        insertsql = '''INSERT INTO occupancies (SpotId, StartTime) VALUES ({}, '{}')'''\n",
    "        cursor.execute(insertsql.format(spotid, occStartTime))\n",
    "        print('Awesome! We are glad to have you here!')\n",
    "\n",
    "        #fourth, delete reservation\n",
    "        deleteres = '''DELETE FROM reservations where SpotId={}'''.format(spotid)\n",
    "        cursor.execute(deleteres)\n",
    "        \n",
    "        db.commit()\n",
    "    except Exception as e:\n",
    "        db.rollback()\n",
    "        print(e)\n",
    "\n",
    "occupancies(2)"
   ]
  },
  {
   "cell_type": "code",
   "execution_count": 109,
   "metadata": {},
   "outputs": [
    {
     "name": "stdout",
     "output_type": "stream",
     "text": [
      "Spot cleared.\n"
     ]
    }
   ],
   "source": [
    "def end_occupancy(spotid):\n",
    "    cursor.execute('''SELECT * FROM occupancies where SpotId={}'''.format(spotid))\n",
    "    occupancy = cursor.fetchone()\n",
    "    if occupancy is None:\n",
    "        print('Spot not occupied.')\n",
    "    else:\n",
    "        cursor.execute('''DELETE FROM occupancies where SpotId={}'''.format(spotid))\n",
    "        print('Spot cleared.')\n",
    "        db.commit()\n",
    "\n",
    "end_occupancy(2)"
   ]
  },
  {
   "cell_type": "code",
   "execution_count": 79,
   "metadata": {
    "scrolled": true
   },
   "outputs": [
    {
     "name": "stdout",
     "output_type": "stream",
     "text": [
      "Total number of garages -  4\n"
     ]
    }
   ],
   "source": [
    "cursor.execute(\"\"\"Select count(*) from garages\"\"\")\n",
    "num_garage = fetch_all()\n",
    "print('Total number of garages - ',garage[0])"
   ]
  },
  {
   "cell_type": "code",
   "execution_count": 105,
   "metadata": {},
   "outputs": [
    {
     "name": "stdout",
     "output_type": "stream",
     "text": [
      "Total number of spots -  7\n"
     ]
    }
   ],
   "source": [
    "def totalSpots():\n",
    "    cursor.execute(\"\"\"Select count(*) from spots\"\"\")\n",
    "    num_spot = fetch_all()\n",
    "    print('Total number of spots - ',num_spot[0])\n",
    "totalSpots()"
   ]
  },
  {
   "cell_type": "code",
   "execution_count": 107,
   "metadata": {},
   "outputs": [
    {
     "name": "stdout",
     "output_type": "stream",
     "text": [
      "Number of spots available -  -4\n"
     ]
    }
   ],
   "source": [
    "def availableSpots():\n",
    "    cursor.execute('''SELECT COUNT(*) FROM occupancies''')\n",
    "    occ_Spots = fetch_all()\n",
    "    avail_Spots = num_spot[0]-occ_Spots[0]\n",
    "    print('Number of spots available - ',avail_Spots)\n",
    "\n",
    "availableSpots()"
   ]
  },
  {
   "cell_type": "code",
   "execution_count": 63,
   "metadata": {},
   "outputs": [],
   "source": [
    "db.close()"
   ]
  },
  {
   "cell_type": "code",
   "execution_count": null,
   "metadata": {},
   "outputs": [],
   "source": []
  }
 ],
 "metadata": {
  "kernelspec": {
   "display_name": "Python 3",
   "language": "python",
   "name": "python3"
  },
  "language_info": {
   "codemirror_mode": {
    "name": "ipython",
    "version": 3
   },
   "file_extension": ".py",
   "mimetype": "text/x-python",
   "name": "python",
   "nbconvert_exporter": "python",
   "pygments_lexer": "ipython3",
   "version": "3.7.3"
  }
 },
 "nbformat": 4,
 "nbformat_minor": 2
}
