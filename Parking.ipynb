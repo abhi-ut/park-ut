{
 "cells": [
  {
   "cell_type": "markdown",
   "metadata": {},
   "source": [
    "### 3. Use the Jupyter Notebook with Python"
   ]
  },
  {
   "cell_type": "code",
   "execution_count": 17,
   "metadata": {},
   "outputs": [],
   "source": [
    "# Import sqlite3 module\n",
    "import sqlite3\n",
    "import random"
   ]
  },
  {
   "cell_type": "code",
   "execution_count": 3,
   "metadata": {},
   "outputs": [],
   "source": [
    "# Connect to the chinook database\n",
    "db=sqlite3.connect(\"/Users/Vrinda Sharma/Documents/APAD/Assignments/Project-1/park-ut/db/UTPark.db\")"
   ]
  },
  {
   "cell_type": "code",
   "execution_count": 12,
   "metadata": {},
   "outputs": [
    {
     "name": "stdout",
     "output_type": "stream",
     "text": [
      "(1, 'Vrinda', 'vrinda.sha@utexas.edu', 1)\n",
      "(2, 'Catherine', 'cathy.morgan@utexas.edu', 0)\n",
      "(3, 'Mac', 'macmiller@gmail.com', 0)\n",
      "(4, 'Katie', 'Katie@gmail.com', 0)\n",
      "(5, 'Abhi', 'Abhi@gmail.com', 0)\n"
     ]
    }
   ],
   "source": [
    "cursor = db.cursor()\n",
    "cursor.execute('''Select * from users''')\n",
    "def fetchResult():\n",
    "    all=cursor.fetchall()\n",
    "    for pl in all:\n",
    "        print(pl)\n",
    "fetchResult()\n"
   ]
  },
  {
   "cell_type": "code",
   "execution_count": 11,
   "metadata": {},
   "outputs": [],
   "source": [
    "# Write a query to list the contents of the table media_types and execute it.\n",
    "# TODO \n",
    "# Your code goes here.\n",
    "cursor = db.cursor()\n",
    "# Add new user-0/Admin=1\n",
    "\n",
    "def addUser():\n",
    "    insertsql = \"\"\"INSERT INTO users(Name,Email,Admin) VALUES ('Abhi', 'Abhi@gmail.com', 0)\"\"\"\n",
    "    try:\n",
    "# Execute the SQL command\n",
    "        cursor.execute(insertsql)\n",
    "# Commit your changes in the database\n",
    "        db.commit()\n",
    "    except:\n",
    "# Rollback in case there is any error\n",
    "        db.rollback()\n",
    "        db.commit()\n",
    "\n",
    "addUser()\n",
    "db.commit()"
   ]
  },
  {
   "cell_type": "code",
   "execution_count": 13,
   "metadata": {},
   "outputs": [],
   "source": [
    "def addGarages():\n",
    "    insertsql = \"\"\"INSERT INTO garages(Name,Address) VALUES ('Guadulupe', 'Guadulupe street')\"\"\"\n",
    "    try:\n",
    "# Execute the SQL command\n",
    "        cursor.execute(insertsql)\n",
    "# Commit your changes in the database\n",
    "        db.commit()\n",
    "    except:\n",
    "# Rollback in case there is any error\n",
    "        db.rollback()\n",
    "        db.commit()\n",
    "\n",
    "addGarages()\n",
    "db.commit()"
   ]
  },
  {
   "cell_type": "code",
   "execution_count": 19,
   "metadata": {},
   "outputs": [],
   "source": [
    "def genSpot():\n",
    "    return random.randint(1,10000)\n",
    "\n",
    "def addSpots():\n",
    "    insertsql = \"\"\"INSERT INTO spots(GarageId,Level,Number) VALUES ('2', '1',{})\"\"\".format(genSpot())\n",
    "    try:\n",
    "# Execute the SQL command\n",
    "        cursor.execute(insertsql)\n",
    "# Commit your changes in the database\n",
    "        db.commit()\n",
    "    except:\n",
    "# Rollback in case there is any error\n",
    "        db.rollback()\n",
    "        db.commit()\n",
    "\n",
    "addSpots()\n",
    "db.commit()"
   ]
  },
  {
   "cell_type": "code",
   "execution_count": 15,
   "metadata": {
    "scrolled": true
   },
   "outputs": [
    {
     "name": "stdout",
     "output_type": "stream",
     "text": [
      "(3,)\n"
     ]
    }
   ],
   "source": [
    "cursor.execute(\"\"\"Select count(*) from garages\"\"\")\n",
    "fetchResult()\n",
    "db.commit()"
   ]
  },
  {
   "cell_type": "code",
   "execution_count": 20,
   "metadata": {},
   "outputs": [
    {
     "name": "stdout",
     "output_type": "stream",
     "text": [
      "(2,)\n"
     ]
    }
   ],
   "source": [
    "cursor.execute(\"\"\"Select count(*) from spots\"\"\")\n",
    "fetchResult()\n",
    "db.commit()"
   ]
  },
  {
   "cell_type": "code",
   "execution_count": 15,
   "metadata": {},
   "outputs": [],
   "source": [
    "db.close()"
   ]
  },
  {
   "cell_type": "code",
   "execution_count": null,
   "metadata": {},
   "outputs": [],
   "source": []
  }
 ],
 "metadata": {
  "kernelspec": {
   "display_name": "Python 3",
   "language": "python",
   "name": "python3"
  },
  "language_info": {
   "codemirror_mode": {
    "name": "ipython",
    "version": 3
   },
   "file_extension": ".py",
   "mimetype": "text/x-python",
   "name": "python",
   "nbconvert_exporter": "python",
   "pygments_lexer": "ipython3",
   "version": "3.7.3"
  }
 },
 "nbformat": 4,
 "nbformat_minor": 2
}
